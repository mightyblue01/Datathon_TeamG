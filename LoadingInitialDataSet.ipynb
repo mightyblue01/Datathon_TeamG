{
 "cells": [
  {
   "cell_type": "code",
   "execution_count": 1,
   "metadata": {
    "scrolled": true
   },
   "outputs": [],
   "source": [
    "# Find path to PySpark.\n",
    "import findspark\n",
    "findspark.init(\"<Spark folder path>\")\n",
    "\n",
    "# Import PySpark and initialize SparkContext object.\n",
    "import pyspark\n",
    "from pyspark.sql import SQLContext\n",
    "\n",
    "\n",
    "sc = pyspark.SparkContext()\n",
    "sqlCtx = SQLContext(sc)\n"
   ]
  },
  {
   "cell_type": "code",
   "execution_count": null,
   "metadata": {
    "collapsed": true
   },
   "outputs": [],
   "source": [
    "#Load the data files and count # of records to verify that whole data is loaded"
   ]
  },
  {
   "cell_type": "code",
   "execution_count": 86,
   "metadata": {
    "scrolled": false
   },
   "outputs": [
    {
     "name": "stdout",
     "output_type": "stream",
     "text": [
      "+----------+--------+-------------+-------+-----------------+\n",
      "|Patient_ID|Store_ID|Prescriber_ID|Drug_ID|Prescription_Week|\n",
      "+----------+--------+-------------+-------+-----------------+\n",
      "|         4|    2143|        40822|   4867|       2011-08-07|\n",
      "|         4|    2143|        40822|   5476|       2011-05-01|\n",
      "|         4|    2143|        40822|   4867|       2011-08-07|\n",
      "|         4|    2143|        40822|     99|       2011-09-18|\n",
      "|         4|    2143|        40822|     99|       2011-09-18|\n",
      "+----------+--------+-------------+-------+-----------------+\n",
      "\n"
     ]
    }
   ],
   "source": [
    "from pyspark.sql.types import StructType\n",
    "from pyspark.sql.types import StructField\n",
    "from pyspark.sql.types import StringType\n",
    "from pyspark.sql.types import IntegerType\n",
    "\n",
    "#df = sqlCtx.read.text(\"/Volumes/JetDrive/Root/Datasets/Datathon/*.txt\")\n",
    "data_RDD1 = sc.textFile(\"/Volumes/JetDrive/Root/Datasets/Datathon/Patients/*.txt\")\n",
    "#df = sqlCtx.read.text(\"/Volumes/JetDrive/Root/Datasets/Datathon/patients_1.txt\")\n",
    "#tables = df.registerTempTable('patient1')\n",
    "#df2 = sqlCtx.sql(\"describe patient1\")\n",
    "#df2.show(5)\n",
    "splitData_RDD1 = data_RDD1.map(lambda line: line.split('\\t'))\n",
    "splitData_RDD2 = splitData_RDD1.filter(lambda line : \"Patient_ID\" not in line)\n",
    "schemaData = StructType([ \\\n",
    "    StructField(\"Patient_ID\", StringType(), False),\\\n",
    "    StructField(\"Store_ID\", StringType(), True),\\\n",
    "    StructField(\"Prescriber_ID\", StringType(), True),\\\n",
    "    StructField(\"Drug_ID\", StringType(), True),\\\n",
    "    StructField(\"SourceSystem_Code\", StringType(), True),\\\n",
    "    StructField(\"Prescription_Week\", StringType(), True),\\\n",
    "    StructField(\"Dispense_Week\", StringType(), True),\\\n",
    "    StructField(\"Drug_Code\", StringType(), True),\\\n",
    "    StructField(\"NHS_Code\", StringType(), True),\\\n",
    "    StructField(\"IsDeferredScript\", StringType(), True),\\\n",
    "    StructField(\"Script_Qty\", StringType(), True),\\\n",
    "    StructField(\"Dispensed_Qty\", StringType(), True),\\\n",
    "    StructField(\"MaxDispense_Qty\", StringType(), True),\\\n",
    "    StructField(\"PatientPrice_Amt\", StringType(), True),\\\n",
    "    StructField(\"WholeSalePrice_Amt\", StringType(), True),\\\n",
    "    StructField(\"GovernmentReclaim_Amt\", StringType(), True),\\\n",
    "    StructField(\"RepeatsTotal_Qty\", StringType(), True),\\\n",
    "    StructField(\"RepeatsLeft_Qty\", StringType(), True),\\\n",
    "    StructField(\"StreamlinedApproval_Code\", StringType(), True)])\n",
    "\n",
    "#sorted_fields = sorted(schema.fields, key=lambda x: (int(x[0])))\n",
    "#sorted_fields = schema.map(lambda p: (int(p[0]))) \n",
    "#sorted_schema = StructType(fields=sorted_fields)\n",
    "\n",
    "data_DF = sqlCtx.createDataFrame(splitData_RDD2, schemaData)\n",
    "tables = data_DF.registerTempTable('transactions')\n",
    "\n",
    "\n",
    "\n",
    "data_DF2 = sqlCtx.sql('select Patient_ID,Store_ID,Prescriber_ID,Drug_ID,Prescription_Week from transactions where Patient_ID = \\\n",
    "                 4 limit 5')\n",
    "\n",
    "data_DF2.show()\n"
   ]
  },
  {
   "cell_type": "code",
   "execution_count": 87,
   "metadata": {
    "scrolled": true
   },
   "outputs": [
    {
     "name": "stdout",
     "output_type": "stream",
     "text": [
      "+----------+------+-------------+--------+\n",
      "|Patient_ID|gender|year_of_birth|postcode|\n",
      "+----------+------+-------------+--------+\n",
      "|         5|     U|         1900|    2229|\n",
      "|         6|     U|         1900|    3162|\n",
      "|         7|     M|         1900|    6150|\n",
      "|         8|     U|         1900|    4306|\n",
      "|         9|     F|         1900|    6020|\n",
      "+----------+------+-------------+--------+\n",
      "\n"
     ]
    }
   ],
   "source": [
    "patients_RDD = sc.textFile(\"/Volumes/JetDrive/Root/Datasets/Datathon/Lookups/patients.txt\")\n",
    "splitPatients_RDD1 = patients_RDD.map(lambda line: line.split('\\t'))\n",
    "splitPatients_RDD2 = splitPatients_RDD1.filter(lambda line : \"Patient_ID\" not in line)\n",
    "\n",
    "schemaPatients = StructType([ \\\n",
    "    StructField(\"Patient_ID\", StringType(), False),\\\n",
    "    StructField(\"gender\", StringType(), True),\\\n",
    "    StructField(\"year_of_birth\", StringType(), True),\\\n",
    "    StructField(\"postcode\", StringType(), True)])\n",
    " \n",
    "patients_DF = sqlCtx.createDataFrame(splitPatients_RDD2, schemaPatients)\n",
    "\n",
    "tables2 = patients_DF.registerTempTable('patients')\n",
    "\n",
    "patients_DF2 = sqlCtx.sql('select Patient_ID,gender,year_of_birth,postcode from patients where Patient_ID > 4 limit 5')\n",
    "\n",
    "patients_DF2.show()\n"
   ]
  },
  {
   "cell_type": "code",
   "execution_count": 88,
   "metadata": {},
   "outputs": [
    {
     "name": "stdout",
     "output_type": "stream",
     "text": [
      "+----------+------+-------------+-----------------+\n",
      "|Patient_ID|gender|year_of_birth|Prescription_Week|\n",
      "+----------+------+-------------+-----------------+\n",
      "|    100010|     F|         1900|       2011-01-30|\n",
      "|    100010|     F|         1900|       2011-01-30|\n",
      "|    100010|     F|         1900|       2011-01-30|\n",
      "|    100010|     F|         1900|       2011-07-10|\n",
      "+----------+------+-------------+-----------------+\n",
      "\n"
     ]
    }
   ],
   "source": [
    "joined_DF3 = sqlCtx.sql('select transactions.Patient_ID, gender, year_of_birth, Prescription_Week from transactions \\\n",
    "                        join patients on transactions.Patient_ID = patients.Patient_ID limit 4')\n",
    "joined_DF3.show()\n"
   ]
  }
 ],
 "metadata": {
  "kernelspec": {
   "display_name": "Python 3",
   "language": "python",
   "name": "python3"
  },
  "language_info": {
   "codemirror_mode": {
    "name": "ipython",
    "version": 3
   },
   "file_extension": ".py",
   "mimetype": "text/x-python",
   "name": "python",
   "nbconvert_exporter": "python",
   "pygments_lexer": "ipython3",
   "version": "3.4.3"
  }
 },
 "nbformat": 4,
 "nbformat_minor": 2
}
